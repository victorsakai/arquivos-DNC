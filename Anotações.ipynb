{
  "nbformat": 4,
  "nbformat_minor": 0,
  "metadata": {
    "colab": {
      "provenance": [],
      "toc_visible": true,
      "mount_file_id": "1IpECb4W7peds0MkD4OggKzNhwu5AadHJ",
      "authorship_tag": "ABX9TyMSuM12JPmK61eWfWDhUi13",
      "include_colab_link": true
    },
    "kernelspec": {
      "name": "python3",
      "display_name": "Python 3"
    },
    "language_info": {
      "name": "python"
    }
  },
  "cells": [
    {
      "cell_type": "markdown",
      "metadata": {
        "id": "view-in-github",
        "colab_type": "text"
      },
      "source": [
        "<a href=\"https://colab.research.google.com/github/victorsakai/arquivos-DNC/blob/main/Anota%C3%A7%C3%B5es.ipynb\" target=\"_parent\"><img src=\"https://colab.research.google.com/assets/colab-badge.svg\" alt=\"Open In Colab\"/></a>"
      ]
    },
    {
      "cell_type": "markdown",
      "source": [
        "# Python 0\n",
        "\n",
        "Aulas, anotações e testes"
      ],
      "metadata": {
        "id": "2s36VR1BGauh"
      }
    },
    {
      "cell_type": "markdown",
      "source": [
        "# Variáveis em python"
      ],
      "metadata": {
        "id": "-BPcSScrG6MS"
      }
    },
    {
      "cell_type": "code",
      "execution_count": null,
      "metadata": {
        "colab": {
          "base_uri": "https://localhost:8080/"
        },
        "id": "EEi_xqdaFhW0",
        "outputId": "36491030-bf40-416d-f1e4-1c6e97586710"
      },
      "outputs": [
        {
          "output_type": "stream",
          "name": "stdout",
          "text": [
            "Olá, mundo!\n"
          ]
        }
      ],
      "source": [
        "print('Olá, mundo!') # função imprimir, contendo um tipo de dado string (str)\n"
      ]
    },
    {
      "cell_type": "code",
      "source": [
        "print(\"teste aspas duplas\")                         # pode utilizar simples ou dupla, mas utiliza-se mais a simples\n",
        "print()                                             # pula uma linha\n",
        "print(10)                                           # print de um inteiro inteiro (int)\n",
        "print(10.5)                                         # print de um decimal (float)\n",
        "print(10.5 + 9.5)                                   # print de uma operação matemática\n",
        "print('10' + '10')                                  # concatena\n",
        "print(' ')\n",
        "print('texto' + ', ' + 'teste escrita')\n",
        "print('eu teno ',3,' cachorros')                    # para concatenar str com int ou float, utilizar vírgula\n"
      ],
      "metadata": {
        "colab": {
          "base_uri": "https://localhost:8080/"
        },
        "id": "srPA-eZ3LNf2",
        "outputId": "a4e4b702-79fb-4a57-be27-2881c023afa6"
      },
      "execution_count": null,
      "outputs": [
        {
          "output_type": "stream",
          "name": "stdout",
          "text": [
            "teste aspas duplas\n",
            "\n",
            "10\n",
            "10.5\n",
            "20.0\n",
            "1010\n",
            " \n",
            "texto, teste escrita\n",
            "eu teno  3  cachorros\n"
          ]
        }
      ]
    },
    {
      "cell_type": "code",
      "source": [
        "# Declarando Variáveis\n",
        "\n",
        "lanche = 'x-burger'          # estrutra: variáveis, atribuição e valores armazenados\n",
        "preco = 10.9\n",
        "qtd = 2\n",
        "\n",
        "print(lanche , preco , qtd)"
      ],
      "metadata": {
        "colab": {
          "base_uri": "https://localhost:8080/"
        },
        "id": "toh4hgFUMn-J",
        "outputId": "7df01232-3a5d-4aea-8705-f4081d244df1"
      },
      "execution_count": null,
      "outputs": [
        {
          "output_type": "stream",
          "name": "stdout",
          "text": [
            "x-burger 10.9 2\n"
          ]
        }
      ]
    },
    {
      "cell_type": "code",
      "source": [
        "# contas\n",
        "\n",
        "lanche = 10.9\n",
        "batata = 5.9\n",
        "refri = 3\n",
        "conta = lanche + batata + refri\n",
        "print(conta) "
      ],
      "metadata": {
        "colab": {
          "base_uri": "https://localhost:8080/"
        },
        "id": "Ns1NxpUZNJOj",
        "outputId": "ceffcd0a-247a-4026-b977-7577e9db3559"
      },
      "execution_count": null,
      "outputs": [
        {
          "output_type": "stream",
          "name": "stdout",
          "text": [
            "19.8\n"
          ]
        }
      ]
    },
    {
      "cell_type": "code",
      "source": [
        "# impressão composta\n",
        "\n",
        "print('Descrição do pedido')\n",
        "print()\n",
        "print('Lanche R$', lanche)\n",
        "print('Bata R$ ', batata)\n",
        "print('Refrigerante R$ ', refri)\n",
        "print()\n",
        "print('**Total R$ ', conta)"
      ],
      "metadata": {
        "colab": {
          "base_uri": "https://localhost:8080/"
        },
        "id": "j6rhQgrcNmUm",
        "outputId": "0580d6da-8221-4d29-9ed1-e3939962ce15"
      },
      "execution_count": null,
      "outputs": [
        {
          "output_type": "stream",
          "name": "stdout",
          "text": [
            "Descrição do pedido\n",
            "\n",
            "Lanche R$ 10.9\n",
            "Bata R$  5.9\n",
            "Refrigerante R$  3\n",
            "\n",
            "**Total R$  19.8\n"
          ]
        }
      ]
    },
    {
      "cell_type": "code",
      "source": [
        "# função type\n",
        "\n",
        "type(lanche)\n",
        "type('teste')"
      ],
      "metadata": {
        "colab": {
          "base_uri": "https://localhost:8080/"
        },
        "id": "YBXDBwICO-05",
        "outputId": "e522ae49-dd72-48a9-c49e-72fe5b3d84b1"
      },
      "execution_count": null,
      "outputs": [
        {
          "output_type": "execute_result",
          "data": {
            "text/plain": [
              "str"
            ]
          },
          "metadata": {},
          "execution_count": 12
        }
      ]
    },
    {
      "cell_type": "markdown",
      "source": [],
      "metadata": {
        "id": "Mgab4HE_7zDv"
      }
    },
    {
      "cell_type": "code",
      "source": [
        "# Tipo de dado bool\n",
        "\n",
        "pgtoCartao = True\n",
        "pgtoBolet = False\n",
        "\n",
        "type(pgtoCartao)"
      ],
      "metadata": {
        "colab": {
          "base_uri": "https://localhost:8080/"
        },
        "id": "3OhWPb0ePMZj",
        "outputId": "728af163-be63-4b26-c0bf-884fa1e6eed3"
      },
      "execution_count": null,
      "outputs": [
        {
          "output_type": "execute_result",
          "data": {
            "text/plain": [
              "bool"
            ]
          },
          "metadata": {},
          "execution_count": 13
        }
      ]
    },
    {
      "cell_type": "markdown",
      "source": [
        "# Operadores Matemáticos"
      ],
      "metadata": {
        "id": "Hofv51Aa74oM"
      }
    },
    {
      "cell_type": "markdown",
      "source": [
        "Operadores diferentes:\n",
        "\n",
        "7 ** 2 == 49       potência\n",
        "7 // 2 == 3       divisão inteira\n",
        "7 %  2 == 1       resto da divisão\n",
        "\n",
        "Obs. 1: um \"=\" significa atribuição e dois \"==\" significa cálculo\n",
        "Obs. 2: com strings: + concatena ; * repte n vezes"
      ],
      "metadata": {
        "id": "_FUKvW1L8LmH"
      }
    },
    {
      "cell_type": "code",
      "source": [
        "# exemplos operadores com string\n",
        "\n",
        "print('Olá' + ' mundo!')\n",
        "print('Olá' * 5)\n",
        "print()\n",
        "print()\n",
        "print('-'*21)\n",
        "print('-'*4 + ' Bem vindo ' + '-'*4)"
      ],
      "metadata": {
        "colab": {
          "base_uri": "https://localhost:8080/"
        },
        "id": "a2jBiQoa84st",
        "outputId": "062bef7b-8382-4e96-a736-7976d6c26e5c"
      },
      "execution_count": null,
      "outputs": [
        {
          "output_type": "stream",
          "name": "stdout",
          "text": [
            "Olá mundo!\n",
            "OláOláOláOláOlá\n",
            "\n",
            "\n",
            "---------------------\n",
            "---- Bem vindo ----\n"
          ]
        }
      ]
    },
    {
      "cell_type": "markdown",
      "source": [
        "Transformando variáveis\n",
        "\n",
        "int()\n",
        "float()\n",
        "str()\n",
        "\n",
        "Utilizado quando temos os dados num formato indesejado"
      ],
      "metadata": {
        "id": "a-bRh-G290lh"
      }
    },
    {
      "cell_type": "code",
      "source": [
        "#Exemplo\n",
        "\n",
        "print('int(1.857) = ',type(int(1.857)))\n",
        "print('int(4) = ',type(int('4')))\n",
        "print(int(True))\n",
        "print(int(False))\n",
        "print(float(1))\n",
        "print(float(True))\n",
        "print(str(1))\n",
        "print(str(True))"
      ],
      "metadata": {
        "colab": {
          "base_uri": "https://localhost:8080/"
        },
        "id": "VR193w1N9_TV",
        "outputId": "71073365-8c2a-4673-df48-986907e146fe"
      },
      "execution_count": null,
      "outputs": [
        {
          "output_type": "stream",
          "name": "stdout",
          "text": [
            "int(1.857) =  <class 'int'>\n",
            "int(4) =  <class 'int'>\n",
            "1\n",
            "0\n",
            "1.0\n",
            "1.0\n",
            "1\n",
            "True\n"
          ]
        }
      ]
    },
    {
      "cell_type": "code",
      "source": [
        "# print() com .format\n",
        "\n",
        "a = 2\n",
        "b = 3\n",
        "c = 2.835895\n",
        "print('texto {}, mais texto {}'.format(a,b))\n",
        "print('divisão {}'.format(a/b))\n",
        "print('divisão |{0:10.3f}|, formtação |{1:10.3f}| '.format(a/b,c))"
      ],
      "metadata": {
        "colab": {
          "base_uri": "https://localhost:8080/"
        },
        "id": "IvZVhGbI_LoB",
        "outputId": "cd8d3821-ec5b-4b47-cfbe-44e9a711ede4"
      },
      "execution_count": null,
      "outputs": [
        {
          "output_type": "stream",
          "name": "stdout",
          "text": [
            "texto 2, mais texto 3\n",
            "divisão 0.6666666666666666\n",
            "divisão |     0.667|, formtação |     2.836| \n"
          ]
        }
      ]
    },
    {
      "cell_type": "code",
      "source": [],
      "metadata": {
        "id": "4vkqnVFn1kh5"
      },
      "execution_count": null,
      "outputs": []
    },
    {
      "cell_type": "markdown",
      "source": [
        "# Condicionais\n",
        "\n"
      ],
      "metadata": {
        "id": "z6VBrDdk1mIR"
      }
    },
    {
      "cell_type": "code",
      "source": [
        "# Exemplo1\n",
        "\n",
        "decisao = input('O que deseja comer? ')\n",
        "\n",
        "if decisao == 'Lanche':\n",
        "  print('Ir ao Mc Donalds')\n",
        "  print('Comer lanche')\n",
        "else:\n",
        "  print('Ir a Pizza Hut')\n",
        "  print('Comer pizza')\n",
        "print('Fome satisfeita')"
      ],
      "metadata": {
        "colab": {
          "base_uri": "https://localhost:8080/"
        },
        "id": "Po2FfmuWcrtb",
        "outputId": "dda938bc-64e7-4ac3-baf5-f8bc65b6e688"
      },
      "execution_count": null,
      "outputs": [
        {
          "output_type": "stream",
          "name": "stdout",
          "text": [
            "O que deseja comer? Batata\n",
            "Ir a Pizza Hut\n",
            "Comer pizza\n",
            "Fome satisfeita\n"
          ]
        }
      ]
    },
    {
      "cell_type": "code",
      "source": [
        "# Exemplo2\n",
        "\n",
        "decisao = input('O que deseja comer? ')\n",
        "\n",
        "if decisao == 'Lanche':\n",
        "  print('Ir ao Mc Donalds')\n",
        "  print('Comer lanche')\n",
        "  print('Fome satisfeita')\n",
        "elif decisao == 'Pizza':\n",
        "  print('Ir a Pizza Hut')\n",
        "  print('Comer pizza')\n",
        "  print('Fome satisfeita')\n",
        "elif decisao == 'Sushi':\n",
        "  print('Ir a restaurante japonesa')\n",
        "  print('Comer sushi')\n",
        "  print('Fome satisfeita')\n",
        "else:\n",
        "  print('Opção não encontrada')\n"
      ],
      "metadata": {
        "colab": {
          "base_uri": "https://localhost:8080/"
        },
        "id": "kD0Vwlm4erPq",
        "outputId": "d5d223a0-8956-4eeb-a884-9426f4cdd96b"
      },
      "execution_count": null,
      "outputs": [
        {
          "output_type": "stream",
          "name": "stdout",
          "text": [
            "O que deseja comer? coco\n",
            "Opção não encontrada\n",
            "Fome satisfeita\n"
          ]
        }
      ]
    },
    {
      "cell_type": "code",
      "source": [
        "# Exemplo3\n",
        "\n",
        "valorDisponivel = float(input('Quanto tenho: '))\n",
        "precoLanche = float(input('Preço do lanche: '))\n",
        "\n",
        "if valorDisponivel >= 20 and precoLanche <= 10:\n",
        "  print('Pode comprar')\n",
        "else:  \n",
        "  print('Não pode comprar, ta pobre')\n",
        "\n",
        "# .isnumeric() --> é numérico\n",
        "# .isalpha() --> é texto\n",
        "# .isalnum() --> é texto e numérico "
      ],
      "metadata": {
        "colab": {
          "base_uri": "https://localhost:8080/"
        },
        "id": "e68ipNbvgpVU",
        "outputId": "987f6fff-6627-48be-d8c8-1035d1e67cae"
      },
      "execution_count": null,
      "outputs": [
        {
          "output_type": "stream",
          "name": "stdout",
          "text": [
            "Quanto tenho: 20\n",
            "Preço do lanche: 11\n",
            "Não pode comprar, ta pobre\n"
          ]
        }
      ]
    },
    {
      "cell_type": "markdown",
      "source": [
        "# Estrutras de repetição"
      ],
      "metadata": {
        "id": "Op6Aa4jZ1mOn"
      }
    },
    {
      "cell_type": "code",
      "source": [
        "# estrutura for\n",
        "i = 1\n",
        "\n",
        "for i in range(1,6):\n",
        "  print('Ler página: {}'.format(i))\n",
        "print('Fim')"
      ],
      "metadata": {
        "colab": {
          "base_uri": "https://localhost:8080/"
        },
        "id": "kdKljryPpEKb",
        "outputId": "e3fd0dab-294c-400a-8363-c6e9b4048bad"
      },
      "execution_count": null,
      "outputs": [
        {
          "output_type": "stream",
          "name": "stdout",
          "text": [
            "Ler página: 1\n",
            "Ler página: 2\n",
            "Ler página: 3\n",
            "Ler página: 4\n",
            "Ler página: 5\n",
            "Fim\n"
          ]
        }
      ]
    },
    {
      "cell_type": "code",
      "source": [
        "# estrtura for + range(inicio, fim, passo)\n",
        "# soma = soma + 1 ----> soma += 1\n",
        "# sub = sub - 1 ----> sub -= 1\n",
        "# mult = mult*2 ----> mult *=2  \n",
        "# div = div*2 ----> div /=2 \n",
        "\n",
        "soma = 0\n",
        "\n",
        "for i in range(1,9+1,2):\n",
        "  soma = soma + i \n",
        "  print('i = {} e soma = {}'.format(i,soma))\n",
        "print('A soma dos ímpares de 1 a 9 é:',soma)"
      ],
      "metadata": {
        "colab": {
          "base_uri": "https://localhost:8080/"
        },
        "id": "lLZJJcMRvmPP",
        "outputId": "769aa212-7a9a-4b81-deda-c4ee1bc592f4"
      },
      "execution_count": null,
      "outputs": [
        {
          "output_type": "stream",
          "name": "stdout",
          "text": [
            "i = 1 e soma = 1\n",
            "i = 3 e soma = 4\n",
            "i = 5 e soma = 9\n",
            "i = 7 e soma = 16\n",
            "i = 9 e soma = 25\n",
            "A soma dos ímpares de 1 a 9 é: 25\n"
          ]
        }
      ]
    },
    {
      "cell_type": "code",
      "source": [
        "# Estrutra while\n",
        "\n",
        "soma = 0\n",
        "while soma <= 20:\n",
        "  n = float(input('Digite o número para somar: '))\n",
        "  soma += n\n",
        "print('A soma total foi de {:.2f}'.format(soma))\n"
      ],
      "metadata": {
        "colab": {
          "base_uri": "https://localhost:8080/"
        },
        "id": "vE3VJszrxngN",
        "outputId": "2fc2ebc0-adb0-4328-8e82-ea6b046c853a"
      },
      "execution_count": null,
      "outputs": [
        {
          "output_type": "stream",
          "name": "stdout",
          "text": [
            "Digite o número para somar: 2\n",
            "Digite o número para somar: 20\n",
            "A soma total foi de 22.00\n"
          ]
        }
      ]
    },
    {
      "cell_type": "code",
      "source": [],
      "metadata": {
        "id": "Kzzz4JS4CBsb"
      },
      "execution_count": null,
      "outputs": []
    },
    {
      "cell_type": "markdown",
      "source": [
        "# Tuplas e Listas"
      ],
      "metadata": {
        "id": "7zhQo6mNCCm7"
      }
    },
    {
      "cell_type": "markdown",
      "source": [
        "## Tuplas\n",
        "\n"
      ],
      "metadata": {
        "id": "7vrZUSBHegPU"
      }
    },
    {
      "cell_type": "code",
      "source": [
        "# Tupla é um tipo de variável composta - aceitam todos os tipos de dados, inclusive misturados\n",
        "\n",
        "tupla = ('lanche','batata','refri')\n",
        "tupla2 = (2,6,4,5,7)\n",
        "\n",
        "print(tupla)\n",
        "print(tupla[0])\n",
        "print(tupla[1])\n",
        "print(tupla[2])\n",
        "\n",
        "#Obs: não pega o último termo\n",
        "print(tupla2[0:2])\n",
        "print(tupla2[1:4])\n",
        "print(tupla2[1:])\n",
        "print(tupla2[:3])\n",
        "\n",
        "#Obs: pode pegar de trás para frente\n",
        "print(tupla2[-1])\n",
        "print(tupla2[-3])\n",
        "\n",
        "#Obs: tuplas não podem ser modificadas"
      ],
      "metadata": {
        "colab": {
          "base_uri": "https://localhost:8080/"
        },
        "id": "5kLVfhW9CG0w",
        "outputId": "66e0bd52-8ecb-4d71-c3ef-04d4ddfd0858"
      },
      "execution_count": null,
      "outputs": [
        {
          "output_type": "stream",
          "name": "stdout",
          "text": [
            "('lanche', 'batata', 'refri')\n",
            "lanche\n",
            "batata\n",
            "refri\n",
            "(2, 6)\n",
            "(6, 4, 5)\n",
            "(6, 4, 5, 7)\n",
            "(2, 6, 4)\n",
            "7\n"
          ]
        }
      ]
    },
    {
      "cell_type": "code",
      "source": [
        "# Funções com tuplas\n",
        "t1 = (0,6,4,2,8)\n",
        "t2 = (1,3,3,5,3,5,7)\n",
        "\n",
        "print(len(t1))       #qtd. caracteres\n",
        "print(sorted(t2))    #ordena, porém transforma em lista\n",
        "print(t2.count(3))   #conta algo\n",
        "print(t2.index(7))   #encontra o primeiro valor = 7\n",
        "print(t2.index(3,3)) #encontra o primeiro valor = 3 após o 3º\n",
        "print(t1 + t2)"
      ],
      "metadata": {
        "colab": {
          "base_uri": "https://localhost:8080/"
        },
        "id": "czilq48eDv8x",
        "outputId": "631f740b-f56c-45cd-a89c-a7b73106f691"
      },
      "execution_count": null,
      "outputs": [
        {
          "output_type": "stream",
          "name": "stdout",
          "text": [
            "5\n",
            "[1, 3, 3, 3, 5, 5, 7]\n",
            "3\n",
            "6\n",
            "4\n",
            "(0, 6, 4, 2, 8, 1, 3, 3, 5, 3, 5, 7)\n"
          ]
        }
      ]
    },
    {
      "cell_type": "code",
      "source": [
        "# Tuplas dentro de for\n",
        "t1 = (2,6,4,5,7)\n",
        "for i in t1:\n",
        "  print(i)\n",
        "\n",
        "print('--------------')\n",
        "\n",
        "t2 = ('lanche','batata','batata','refri')\n",
        "for i in t2:\n",
        "  print(i)\n",
        "\n",
        "print('--------------')\n",
        "\n",
        "soma = 0\n",
        "for i in t1:\n",
        "  soma += i\n",
        "print('soma: {}'.format(soma))\n",
        "\n",
        "print('--------------')\n",
        "\n",
        "for indice, valor in enumerate(t2):\n",
        "  print('No indice {} o produto é {}'.format(indice,valor))\n",
        "print('fim')"
      ],
      "metadata": {
        "colab": {
          "base_uri": "https://localhost:8080/"
        },
        "id": "Ny_GAKMJFveO",
        "outputId": "8fb547cd-191a-4942-b7ef-b20730a02b7c"
      },
      "execution_count": null,
      "outputs": [
        {
          "output_type": "stream",
          "name": "stdout",
          "text": [
            "2\n",
            "6\n",
            "4\n",
            "5\n",
            "7\n",
            "--------------\n",
            "lanche\n",
            "batata\n",
            "batata\n",
            "refri\n",
            "--------------\n",
            "soma: 24\n",
            "--------------\n",
            "No indice 0 o valor é lanche\n",
            "No indice 1 o valor é batata\n",
            "No indice 2 o valor é batata\n",
            "No indice 3 o valor é refri\n",
            "fim\n"
          ]
        }
      ]
    },
    {
      "cell_type": "markdown",
      "source": [
        "## Listas"
      ],
      "metadata": {
        "id": "L-glj60KeuGG"
      }
    },
    {
      "cell_type": "code",
      "source": [
        "# Tambem se usa o acessar itens por posição\n",
        "# Métodos: index e count\n",
        "# funções: len() e sorted()\n",
        "# concatenar junta por posição\n",
        "# Podem ser modificadas"
      ],
      "metadata": {
        "id": "R5X2FuDOesU2"
      },
      "execution_count": null,
      "outputs": []
    },
    {
      "cell_type": "markdown",
      "source": [
        "<h2> Diferença entre Função e Método </h2>\n",
        "\n",
        "Como podemos ver no exemplo acima:\n",
        "\n",
        "* Funções são executadas em variáveis e possuem como output uma nova variável. Com isso as funções **NÃO** modificam a variável original. Toda função tem a cara: `saida = funcao(variavel)`\n",
        "* Já os métodos modificam as variáveis e salvam o resultado na própria variável. Todo método tem a cara: `variavel.metodo(configuracao)`\n",
        "\n",
        "Por esse comportamente básico os métodos não funcionam em tuplas."
      ],
      "metadata": {
        "id": "sATFPymOOvOG"
      }
    },
    {
      "cell_type": "code",
      "source": [
        "l1 = [2,5,4,5,7]\n",
        "\n",
        "# Modificando:\n",
        "l1[0] = 1\n",
        "print(l1)\n",
        "\n",
        "# Modificando\n",
        "l1[0:2] = [2,5]\n",
        "print(l1)\n",
        "\n",
        "# Inserindo\n",
        "l1.append(7)\n",
        "print(l1)\n",
        "\n",
        "# Inserindo\n",
        "l1.insert(1,3)\n",
        "print(l1)\n",
        "\n",
        "# Deletando\n",
        "del l1[2]\n",
        "print(l1)\n",
        "\n",
        "# Deletando e salvando o valor deletado. Se não disser a posição deleta o último\n",
        "var = l1.pop(2)\n",
        "print('var')\n",
        "print('l1')\n",
        "\n",
        "# Deletando por valor - remove: encontra o primeiro da esquerda para a direita\n",
        "l1.remove(7)\n",
        "print(l1)\n",
        "\n",
        "# Ordenando a lista\n",
        "print(sorted(l1))                    # não modifica a lista\n",
        "l1.sort()                           # modifica a lista\n",
        "print(l1)\n",
        "l1.sort(reverse=True)               #modifica e coloca ao inverso\n",
        "print(l1)\n",
        "\n",
        "# Declarando uma lista em branco\n",
        "lista = []\n",
        "lista = list()\n",
        "\n",
        "# Declarando uma lista a partir de um range\n",
        "## lista = list(range(inicio,fim,passo))\n",
        "\n",
        "# Copiando e clonando listas - quando se igual  duas  lista elas ocupam o mesmo espaço de memoria\n",
        "# Com isso se vc modifica uma vc modifica a outra. Entao para copiar sem ocorrer isso: l2 = l1[:]\n",
        "\n",
        "l1 =[0,2,4,6,8,1,3]\n",
        "l2 = l1\n",
        "\n",
        "l1.pop()\n",
        "\n",
        "print(l1)\n",
        "print(l2)\n",
        "\n",
        "l1 =[0,2,4,6,8,1,3]\n",
        "l2 = l1[:]\n",
        "\n",
        "l1.pop()\n",
        "\n",
        "print(l1)\n",
        "print(l2)\n",
        "\n",
        "# Listas dentro de for\n",
        "l1 = [1,3,5,7,9]\n",
        "l2 = [2,4,6,8,10]\n",
        "l3 = []\n",
        "\n",
        "for i, valor in enumerate(l1):\n",
        "  l3.append(l1[i] + l2[i])\n",
        "  print(l3)\n",
        "\n",
        "# Função zip - considera a menor lista entre duas para executar o loop\n",
        "\n",
        "l1 = [1,3,5,7,9]\n",
        "l2 = [2,4,6]\n",
        "l3 = []\n",
        "\n",
        "for v1, v2 in zip(l1,l2):\n",
        "  print(f'v1 = {v1} e v2 = {v2}')\n",
        "print(l3)"
      ],
      "metadata": {
        "colab": {
          "base_uri": "https://localhost:8080/"
        },
        "id": "0U5We4NHgoz-",
        "outputId": "5a6d97e2-5d83-469d-9704-a85b9b7a8b76"
      },
      "execution_count": null,
      "outputs": [
        {
          "output_type": "stream",
          "name": "stdout",
          "text": [
            "[1, 5, 4, 5, 7]\n",
            "[2, 5, 4, 5, 7]\n",
            "[2, 5, 4, 5, 7, 7]\n",
            "[2, 3, 5, 4, 5, 7, 7]\n",
            "[2, 3, 4, 5, 7, 7]\n",
            "var\n",
            "l1\n",
            "[2, 3, 5, 7]\n",
            "[2, 3, 5, 7]\n",
            "[2, 3, 5, 7]\n",
            "[7, 5, 3, 2]\n",
            "[0, 2, 4, 6, 8, 1]\n",
            "[0, 2, 4, 6, 8, 1]\n",
            "[0, 2, 4, 6, 8, 1]\n",
            "[0, 2, 4, 6, 8, 1, 3]\n",
            "[3]\n",
            "[3, 7]\n",
            "[3, 7, 11]\n",
            "[3, 7, 11, 15]\n",
            "[3, 7, 11, 15, 19]\n",
            "v1 = 1 e v2 = 2\n",
            "v1 = 3 e v2 = 4\n",
            "v1 = 5 e v2 = 6\n",
            "[]\n"
          ]
        }
      ]
    },
    {
      "cell_type": "markdown",
      "source": [
        "## Listas dentro de listas"
      ],
      "metadata": {
        "id": "RT7VPNkTSKhu"
      }
    },
    {
      "cell_type": "code",
      "source": [
        "cardapio = [['Lanche', 10.9],\n",
        "            ['Batata', 5.5],\n",
        "            ['Refri', 3.8]]\n",
        "print(cardapio[0])\n",
        "print(cardapio[0][1])\n"
      ],
      "metadata": {
        "id": "kOP73b0Mg-nd",
        "colab": {
          "base_uri": "https://localhost:8080/"
        },
        "outputId": "9016ae49-ced6-4820-e04f-f7e686db9096"
      },
      "execution_count": null,
      "outputs": [
        {
          "output_type": "stream",
          "name": "stdout",
          "text": [
            "['Lanche', 10.9]\n",
            "10.9\n"
          ]
        }
      ]
    },
    {
      "cell_type": "markdown",
      "source": [
        "# Dicionários"
      ],
      "metadata": {
        "id": "xnTmO9MhHJ0f"
      }
    },
    {
      "cell_type": "code",
      "source": [
        "# estrutura semelhante à lista\n",
        "# ao invés da posição ser numérica, temos nomes como chaves\n",
        "# a estrutra é divida em 3 pontos: key, value, item\n",
        "# key é sempre uma string"
      ],
      "metadata": {
        "id": "jFTsmFYkHPag"
      },
      "execution_count": null,
      "outputs": []
    },
    {
      "cell_type": "code",
      "source": [
        "# Declarando\n",
        "\n",
        "dicio = {}\n",
        "dicio = dict()\n",
        "dicio = {'nome' : 'Everton',\n",
        "        'idade' : 29,\n",
        "        'cidade' : 'São José'}\n",
        "\n",
        "# Acessando\n",
        "dicio['nome'] == 'Everton'\n",
        "dicio['idade'] == 29\n",
        "\n",
        "# Modificando\n",
        "dicio['nome'] = 'Thiago'\n",
        "\n",
        "# Criando nova chave\n",
        "dicio['peso'] = 70\n",
        "\n",
        "print(dicio)\n",
        "\n",
        "# Acessando valores\n",
        "print(dicio.values())\n",
        "# for v in dicio.values()\n",
        "\n",
        "# Acessando chaves\n",
        "print(dicio.keys())\n",
        "# for k in dicio.keys()\n",
        "\n",
        "# Items\n",
        "print(dicio.items())\n",
        "# for k, v in dicio.items()\n",
        "\n",
        "# Deletando valores\n",
        "del dicio['cidade']\n",
        "print(dicio)"
      ],
      "metadata": {
        "colab": {
          "base_uri": "https://localhost:8080/"
        },
        "id": "wSMVt2D6IOf6",
        "outputId": "59cd9387-33e2-455d-d4e9-1fe185803782"
      },
      "execution_count": null,
      "outputs": [
        {
          "output_type": "stream",
          "name": "stdout",
          "text": [
            "{'nome': 'Thiago', 'idade': 29, 'cidade': 'São José', 'peso': 70}\n",
            "dict_values(['Thiago', 29, 'São José', 70])\n",
            "dict_keys(['nome', 'idade', 'cidade', 'peso'])\n",
            "dict_items([('nome', 'Thiago'), ('idade', 29), ('cidade', 'São José'), ('peso', 70)])\n",
            "{'nome': 'Thiago', 'idade': 29, 'peso': 70}\n"
          ]
        }
      ]
    },
    {
      "cell_type": "code",
      "source": [
        "# Dicionários dentro de listas -  como uma tabela\n",
        "\n",
        "# Inserindo dados - método .copy()\n",
        "\n",
        "# for dicio in listas:\n",
        "  # for k, v in dicio.items():\n",
        "\n",
        "# lista.append(dicio.copy())"
      ],
      "metadata": {
        "id": "qcqTPT8OIjnl"
      },
      "execution_count": null,
      "outputs": []
    },
    {
      "cell_type": "markdown",
      "source": [
        "# Funções"
      ],
      "metadata": {
        "id": "us1krOvPOb5v"
      }
    },
    {
      "cell_type": "code",
      "source": [
        "# Função é uma rotina ou algo repetitivo\n",
        "# Pode ser num mesmo program ou em funções diferentes (existem várias padrões no pyhon)\n",
        "# Exemplo em mercado financeiro: fibonacci. Matemática: funções machine learn\n",
        "# Funções nativas ex.: print, len, range, int, float e bibliotecas (pandas, numpy...)"
      ],
      "metadata": {
        "id": "iEqzV-6ROe81"
      },
      "execution_count": null,
      "outputs": []
    },
    {
      "cell_type": "code",
      "source": [
        "def funcao():\n",
        "  print('Função')\n",
        "funcao()\n",
        "\n",
        "# Precisa dar espaço em branco após a função (dois espaços quando tiver IDE)"
      ],
      "metadata": {
        "colab": {
          "base_uri": "https://localhost:8080/"
        },
        "id": "l7C5f4TmPV-F",
        "outputId": "72800660-c2ee-455b-d384-4540e47ffd8f"
      },
      "execution_count": null,
      "outputs": [
        {
          "output_type": "stream",
          "name": "stdout",
          "text": [
            "Função\n"
          ]
        }
      ]
    },
    {
      "cell_type": "code",
      "source": [
        "def soma(a,b):\n",
        "  print(a+b)\n",
        "\n",
        "soma(2,3)\n",
        "soma(3,4)\n",
        "#soma(-2) dá erro"
      ],
      "metadata": {
        "colab": {
          "base_uri": "https://localhost:8080/"
        },
        "id": "vQ2KjdhpQYfp",
        "outputId": "c78d6460-0302-45bf-9d02-d7a58ccee2d0"
      },
      "execution_count": null,
      "outputs": [
        {
          "output_type": "stream",
          "name": "stdout",
          "text": [
            "5\n",
            "7\n"
          ]
        }
      ]
    },
    {
      "cell_type": "code",
      "source": [
        "def soma(a=0, b=0):\n",
        "  print(a+b)\n",
        "soma(-2)"
      ],
      "metadata": {
        "colab": {
          "base_uri": "https://localhost:8080/"
        },
        "id": "ltoi-tdOQl7_",
        "outputId": "6c812271-2a99-4d16-8212-ad1dbb31414c"
      },
      "execution_count": null,
      "outputs": [
        {
          "output_type": "stream",
          "name": "stdout",
          "text": [
            "-2\n"
          ]
        }
      ]
    },
    {
      "cell_type": "code",
      "source": [
        "def soma(a=0, b=0):\n",
        "  s = a + b\n",
        "  return s\n",
        "\n",
        "s = soma(3,3)\n",
        "print(s)"
      ],
      "metadata": {
        "colab": {
          "base_uri": "https://localhost:8080/"
        },
        "id": "m4Ncs9e8Q5V3",
        "outputId": "0a6e51c7-8375-41b3-d7ca-72e7f0b22527"
      },
      "execution_count": null,
      "outputs": [
        {
          "output_type": "stream",
          "name": "stdout",
          "text": [
            "6\n"
          ]
        }
      ]
    },
    {
      "cell_type": "code",
      "source": [
        "def soma(* num):\n",
        "  \"\"\"\n",
        "  Função soma: soma todos os números de entrada\n",
        "  \n",
        "  \"\"\"\n",
        "  s = 0\n",
        "  for n in num:\n",
        "    s += n\n",
        "  return s\n",
        "\n",
        "s = soma(3,3,3,3,3,3,3,3)\n",
        "print(s)"
      ],
      "metadata": {
        "colab": {
          "base_uri": "https://localhost:8080/"
        },
        "id": "j2k6NbDQRWpc",
        "outputId": "33b3327f-3fc2-4c54-f894-2b189c45e71f"
      },
      "execution_count": null,
      "outputs": [
        {
          "output_type": "stream",
          "name": "stdout",
          "text": [
            "24\n"
          ]
        }
      ]
    },
    {
      "cell_type": "code",
      "source": [
        "help(soma)"
      ],
      "metadata": {
        "colab": {
          "base_uri": "https://localhost:8080/"
        },
        "id": "2JkN8cRMRuca",
        "outputId": "37d138d3-cc4e-4206-bd2c-05ee05b7f1b2"
      },
      "execution_count": null,
      "outputs": [
        {
          "output_type": "stream",
          "name": "stdout",
          "text": [
            "Help on function soma in module __main__:\n",
            "\n",
            "soma(*num)\n",
            "    Função soma: soma todos os números de entrada\n",
            "\n"
          ]
        }
      ]
    },
    {
      "cell_type": "code",
      "source": [
        "c = 10\n",
        "def soma(* num):\n",
        "  \"\"\"\n",
        "  Função soma: soma todos os números de entrada\n",
        "  \n",
        "  \"\"\"\n",
        "  global c \n",
        "\n",
        "  c=5\n",
        "  s = 0\n",
        "  for n in num:\n",
        "    s += n\n",
        "  return s\n",
        "\n",
        "s = soma(3,3,3,3,3,3,3,3)\n",
        "print(s)\n",
        "print(c)"
      ],
      "metadata": {
        "colab": {
          "base_uri": "https://localhost:8080/"
        },
        "id": "c806iTzLSZMM",
        "outputId": "8a553d26-5d3b-43c1-c039-f17e63571e2a"
      },
      "execution_count": null,
      "outputs": [
        {
          "output_type": "stream",
          "name": "stdout",
          "text": [
            "24\n",
            "5\n"
          ]
        }
      ]
    }
  ]
}